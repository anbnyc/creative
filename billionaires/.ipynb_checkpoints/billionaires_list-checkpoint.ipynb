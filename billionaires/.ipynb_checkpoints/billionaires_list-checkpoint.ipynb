{
 "cells": [
  {
   "cell_type": "code",
   "execution_count": 66,
   "metadata": {
    "collapsed": true
   },
   "outputs": [],
   "source": [
    "from bs4 import BeautifulSoup\n",
    "import json\n",
    "import re"
   ]
  },
  {
   "cell_type": "code",
   "execution_count": 30,
   "metadata": {
    "collapsed": true
   },
   "outputs": [],
   "source": [
    "with open('./list.txt') as f:\n",
    "    raw = f.read()\n",
    "soup = BeautifulSoup(raw, 'html.parser')"
   ]
  },
  {
   "cell_type": "code",
   "execution_count": 89,
   "metadata": {},
   "outputs": [],
   "source": [
    "def no_class(tag):\n",
    "    return not tag.has_attr('class')\n",
    "data = []\n",
    "trs = soup.find_all(\"tr\",\"data\")\n",
    "first_three = ['rank','name','networth']\n",
    "last_three = ['age','source','country']\n",
    "for row in trs:\n",
    "    entry = { x: row.find(class_=x).get_text() for x in first_three }\n",
    "    entry.update({ last_three[i]: v.get_text() for (i,v) in enumerate(row.find_all(no_class)[3:]) })\n",
    "    entry[\"rank\"] = int(re.sub(\"[^0-9]\",\"\",entry[\"rank\"]))\n",
    "    entry[\"networth\"] = float(re.sub(\"[^(\\.0-9)]\",\"\",entry[\"networth\"]))\n",
    "    entry[\"age\"] = int(re.sub(\"[^0-9]\",\"\",entry[\"age\"])) if entry[\"age\"] != '-' else None\n",
    "    data.append(entry)"
   ]
  },
  {
   "cell_type": "code",
   "execution_count": 90,
   "metadata": {
    "collapsed": true
   },
   "outputs": [],
   "source": [
    "with open('./clean_list.json','w') as w:\n",
    "    w.write(json.dumps(data))"
   ]
  }
 ],
 "metadata": {
  "kernelspec": {
   "display_name": "Python 2",
   "language": "python",
   "name": "python2"
  },
  "language_info": {
   "codemirror_mode": {
    "name": "ipython",
    "version": 2
   },
   "file_extension": ".py",
   "mimetype": "text/x-python",
   "name": "python",
   "nbconvert_exporter": "python",
   "pygments_lexer": "ipython2",
   "version": "2.7.13"
  }
 },
 "nbformat": 4,
 "nbformat_minor": 2
}
