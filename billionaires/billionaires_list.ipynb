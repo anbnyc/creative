{
 "cells": [
  {
   "cell_type": "code",
   "execution_count": 1,
   "metadata": {
    "collapsed": true
   },
   "outputs": [],
   "source": [
    "from bs4 import BeautifulSoup\n",
    "import urllib2\n",
    "import json\n",
    "import re\n",
    "import time"
   ]
  },
  {
   "cell_type": "code",
   "execution_count": 2,
   "metadata": {
    "collapsed": true
   },
   "outputs": [],
   "source": [
    "with open('./list.txt') as f:\n",
    "    raw = f.read()\n",
    "soup = BeautifulSoup(raw, 'html.parser')\n",
    "# data = urllib2.urlopen('https://www.forbes.com/billionaires/list/#version:realtime')\n",
    "# data = data.read()\n",
    "# fullpage = BeautifulSoup(data,'html.parser')\n",
    "# soup = fullpage.find('tbody',id='list-table-body')"
   ]
  },
  {
   "cell_type": "code",
   "execution_count": 8,
   "metadata": {
    "collapsed": true,
    "scrolled": true
   },
   "outputs": [],
   "source": [
    "def no_class(tag):\n",
    "    return not tag.has_attr('class')\n",
    "data = {\n",
    "    \"people\": list(),\n",
    "    \"source\": set(),\n",
    "    \"country\": set()\n",
    "}\n",
    "trs = soup.find_all(\"tr\",\"data\")\n",
    "first_three = ['rank','name','networth']\n",
    "last_three = ['age','source','country']\n",
    "for row in trs[:500]:\n",
    "    entry = { x: row.find(class_=x).get_text() for x in first_three }\n",
    "    entry.update({ last_three[i]: v.get_text() for (i,v) in enumerate(row.find_all(no_class)[3:]) })\n",
    "    entry[\"source\"] = [ src.strip() for src in entry[\"source\"].split(\",\") ]\n",
    "    entry[\"rank\"] = int(re.sub(\"[^0-9]\",\"\",entry[\"rank\"]))\n",
    "    entry[\"networth\"] = float(re.sub(\"[^(\\.0-9)]\",\"\",entry[\"networth\"]))\n",
    "    entry[\"age\"] = int(re.sub(\"[^0-9]\",\"\",entry[\"age\"])) if entry[\"age\"] != '-' else None\n",
    "    for src in entry[\"source\"]:\n",
    "        data[\"source\"].add(src)\n",
    "    data[\"country\"].add(entry[\"country\"])\n",
    "    data[\"people\"].append(entry)\n",
    "data[\"source\"] = list(data[\"source\"])\n",
    "data[\"country\"] = list(data[\"country\"])"
   ]
  },
  {
   "cell_type": "code",
   "execution_count": 9,
   "metadata": {
    "collapsed": true
   },
   "outputs": [],
   "source": [
    "with open('./clean_list.json','w') as w:\n",
    "    w.write(json.dumps(data))"
   ]
  }
 ],
 "metadata": {
  "kernelspec": {
   "display_name": "Python 2",
   "language": "python",
   "name": "python2"
  },
  "language_info": {
   "codemirror_mode": {
    "name": "ipython",
    "version": 2
   },
   "file_extension": ".py",
   "mimetype": "text/x-python",
   "name": "python",
   "nbconvert_exporter": "python",
   "pygments_lexer": "ipython2",
   "version": "2.7.13"
  }
 },
 "nbformat": 4,
 "nbformat_minor": 2
}
