{
 "cells": [
  {
   "cell_type": "code",
   "execution_count": 63,
   "metadata": {
    "collapsed": true
   },
   "outputs": [],
   "source": [
    "import json"
   ]
  },
  {
   "cell_type": "code",
   "execution_count": 64,
   "metadata": {
    "collapsed": true
   },
   "outputs": [],
   "source": [
    "with open(\"./ids.csv\") as f:\n",
    "    d = f.readlines()"
   ]
  },
  {
   "cell_type": "code",
   "execution_count": 65,
   "metadata": {
    "collapsed": true
   },
   "outputs": [],
   "source": [
    "states = dict()\n",
    "neighbors = dict()\n",
    "for i in d[1:]:\n",
    "    data = i.split(\",\")\n",
    "    neighbors[data[2]] = data[0]\n",
    "    states[data[0]] = {\n",
    "        \"abbr\": data[1],\n",
    "        \"name\": data[2],\n",
    "        \"neighbors\": [x.strip('\"\\n ') for x in data[3:]]\n",
    "    }\n",
    "for k in states:\n",
    "    states[k][\"neighbors\"] = [neighbors[j] for j in states[k][\"neighbors\"] if states[k][\"neighbors\"][0]]"
   ]
  },
  {
   "cell_type": "code",
   "execution_count": 66,
   "metadata": {
    "collapsed": true
   },
   "outputs": [],
   "source": [
    "with open(\"./states.json\", 'w') as w:\n",
    "    w.write(json.dumps(states))"
   ]
  }
 ],
 "metadata": {
  "kernelspec": {
   "display_name": "Python 2",
   "language": "python",
   "name": "python2"
  },
  "language_info": {
   "codemirror_mode": {
    "name": "ipython",
    "version": 2
   },
   "file_extension": ".py",
   "mimetype": "text/x-python",
   "name": "python",
   "nbconvert_exporter": "python",
   "pygments_lexer": "ipython2",
   "version": "2.7.13"
  }
 },
 "nbformat": 4,
 "nbformat_minor": 2
}
